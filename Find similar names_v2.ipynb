{
 "cells": [
  {
   "cell_type": "markdown",
   "id": "ea795870",
   "metadata": {},
   "source": [
    "## Step 1: Install required libraries for this task\n",
    "### ONLY install once, next time, just run from Cell [2]"
   ]
  },
  {
   "cell_type": "code",
   "execution_count": null,
   "id": "b4676017-3722-4f23-ba55-79b66d124ebb",
   "metadata": {},
   "outputs": [],
   "source": [
    "## Run this cell to install the libraries needed\n",
    "# you only need to install ONCE\n",
    "\n",
    "!pip install fuzzywuzzy\n",
    "!pip install python-Levenshtein"
   ]
  },
  {
   "cell_type": "markdown",
   "id": "b80602b0",
   "metadata": {},
   "source": [
    "### Step 2: Import necessary libraries"
   ]
  },
  {
   "cell_type": "code",
   "execution_count": 3,
   "id": "8aba4daa",
   "metadata": {},
   "outputs": [],
   "source": [
    "import pandas as pd\n",
    "from fuzzywuzzy import fuzz"
   ]
  },
  {
   "cell_type": "markdown",
   "id": "b93ee200",
   "metadata": {},
   "source": [
    "### Step 3: before you start, please make sure the column is named 'company' in both Excel lists. \n",
    "\n",
    "### Edit the paths below, tell the programme which TWO excel lists you want to check against"
   ]
  },
  {
   "cell_type": "code",
   "execution_count": 2,
   "id": "621bf30e",
   "metadata": {},
   "outputs": [],
   "source": [
    "## Bring in the 2 lists that you need to compare\n",
    "## Turn the lists into 2 dataframes\n",
    "\n",
    "system_list = pd.read_excel(r'C:\\Users\\hyyiu\\Desktop\\similar_names\\companies_on_jb\\test\\system_companies.xlsx')\n",
    "new_list = pd.read_excel(r'C:\\Users\\hyyiu\\Desktop\\similar_names\\companies_on_jb\\test\\new_companies.xlsx')"
   ]
  },
  {
   "cell_type": "code",
   "execution_count": 3,
   "id": "b8692c88",
   "metadata": {},
   "outputs": [
    {
     "data": {
      "text/html": [
       "<div>\n",
       "<style scoped>\n",
       "    .dataframe tbody tr th:only-of-type {\n",
       "        vertical-align: middle;\n",
       "    }\n",
       "\n",
       "    .dataframe tbody tr th {\n",
       "        vertical-align: top;\n",
       "    }\n",
       "\n",
       "    .dataframe thead th {\n",
       "        text-align: right;\n",
       "    }\n",
       "</style>\n",
       "<table border=\"1\" class=\"dataframe\">\n",
       "  <thead>\n",
       "    <tr style=\"text-align: right;\">\n",
       "      <th></th>\n",
       "      <th>company</th>\n",
       "    </tr>\n",
       "  </thead>\n",
       "  <tbody>\n",
       "    <tr>\n",
       "      <th>0</th>\n",
       "      <td>ALDI Services Asia Limited</td>\n",
       "    </tr>\n",
       "    <tr>\n",
       "      <th>1</th>\n",
       "      <td>Bank of China (Hong Kong) Limited</td>\n",
       "    </tr>\n",
       "    <tr>\n",
       "      <th>2</th>\n",
       "      <td>BASF East Asia Regional Headquarters Limited</td>\n",
       "    </tr>\n",
       "    <tr>\n",
       "      <th>3</th>\n",
       "      <td>CEI Conrad Electronic International (HK) Limited</td>\n",
       "    </tr>\n",
       "    <tr>\n",
       "      <th>4</th>\n",
       "      <td>Centre Testing International (Hong Kong) Compa...</td>\n",
       "    </tr>\n",
       "  </tbody>\n",
       "</table>\n",
       "</div>"
      ],
      "text/plain": [
       "                                             company\n",
       "0                         ALDI Services Asia Limited\n",
       "1                  Bank of China (Hong Kong) Limited\n",
       "2       BASF East Asia Regional Headquarters Limited\n",
       "3   CEI Conrad Electronic International (HK) Limited\n",
       "4  Centre Testing International (Hong Kong) Compa..."
      ]
     },
     "execution_count": 3,
     "metadata": {},
     "output_type": "execute_result"
    }
   ],
   "source": [
    "## Preview the head rows of System List\n",
    "system_list.head()"
   ]
  },
  {
   "cell_type": "code",
   "execution_count": 4,
   "id": "684be9b0",
   "metadata": {},
   "outputs": [
    {
     "data": {
      "text/html": [
       "<div>\n",
       "<style scoped>\n",
       "    .dataframe tbody tr th:only-of-type {\n",
       "        vertical-align: middle;\n",
       "    }\n",
       "\n",
       "    .dataframe tbody tr th {\n",
       "        vertical-align: top;\n",
       "    }\n",
       "\n",
       "    .dataframe thead th {\n",
       "        text-align: right;\n",
       "    }\n",
       "</style>\n",
       "<table border=\"1\" class=\"dataframe\">\n",
       "  <thead>\n",
       "    <tr style=\"text-align: right;\">\n",
       "      <th></th>\n",
       "      <th>company</th>\n",
       "    </tr>\n",
       "  </thead>\n",
       "  <tbody>\n",
       "    <tr>\n",
       "      <th>0</th>\n",
       "      <td>ALDI Sourcing Asia Limited</td>\n",
       "    </tr>\n",
       "    <tr>\n",
       "      <th>1</th>\n",
       "      <td>ALDI Sourcing Asia</td>\n",
       "    </tr>\n",
       "    <tr>\n",
       "      <th>2</th>\n",
       "      <td>ALDI Sourcing Asia Ltd</td>\n",
       "    </tr>\n",
       "    <tr>\n",
       "      <th>3</th>\n",
       "      <td>ALDI Sourcing Asia Ltd.</td>\n",
       "    </tr>\n",
       "    <tr>\n",
       "      <th>4</th>\n",
       "      <td>Bank Of China (Hong Kong) Ltd.</td>\n",
       "    </tr>\n",
       "  </tbody>\n",
       "</table>\n",
       "</div>"
      ],
      "text/plain": [
       "                          company\n",
       "0      ALDI Sourcing Asia Limited\n",
       "1              ALDI Sourcing Asia\n",
       "2          ALDI Sourcing Asia Ltd\n",
       "3         ALDI Sourcing Asia Ltd.\n",
       "4  Bank Of China (Hong Kong) Ltd."
      ]
     },
     "execution_count": 4,
     "metadata": {},
     "output_type": "execute_result"
    }
   ],
   "source": [
    "## Preview the head rows of New List\n",
    "new_list.head()"
   ]
  },
  {
   "cell_type": "markdown",
   "id": "8f2558a6",
   "metadata": {},
   "source": [
    "### Step 4 - Edit the similarity ratio (out of 100%) you want below before running the cell. When it finishes, a new Excel file will be saved to the same folder path.\n",
    "\n",
    "#### Please make sure the column name is always 'company' in both Excel lists."
   ]
  },
  {
   "cell_type": "code",
   "execution_count": 5,
   "id": "2c462b4c",
   "metadata": {},
   "outputs": [
    {
     "name": "stdout",
     "output_type": "stream",
     "text": [
      "                                            System List  \\\n",
      "0                            ALDI Services Asia Limited   \n",
      "271                   Bank of China (Hong Kong) Limited   \n",
      "539        BASF East Asia Regional Headquarters Limited   \n",
      "807    CEI Conrad Electronic International (HK) Limited   \n",
      "1075  Centre Testing International (Hong Kong) Compa...   \n",
      "1343                               CLP Holdings Limited   \n",
      "1611                                  Cordis, Hong Kong   \n",
      "1879                                           Deloitte   \n",
      "2414                   Dezan Shira & Associates Limited   \n",
      "2682                                                 EY   \n",
      "3485         Freudenberg & Vilene International Limited   \n",
      "3753                     HDI Global SE Hong Kong Branch   \n",
      "4289                      Imtron Asia Hong Kong Limited   \n",
      "5092                                     Kuehne & Nagel   \n",
      "5627                Leighton Contractors (Asia) Limited   \n",
      "5895                                 Mazars CPA Limited   \n",
      "6163                    Mercedes-Benz Hong Kong Limited   \n",
      "6431               OBI Group Sourcing Hong Kong Limited   \n",
      "6698                      OBI Group Sourcing HK Limited   \n",
      "6966                               SellerX Asia Limited   \n",
      "7234                                    Siemens Limited   \n",
      "7502                            Simba Dickie HK Limited   \n",
      "7770              Techtronic Industries Company Limited   \n",
      "8306                             TGI Technology Limited   \n",
      "8574  The Hongkong and Shanghai Banking Corporation ...   \n",
      "8842                    TÜV Rheinland Hong Kong Limited   \n",
      "\n",
      "                                               New List  Ratio  \n",
      "0                            ALDI Sourcing Asia Limited     81  \n",
      "271                      Bank Of China (Hong Kong) Ltd.     89  \n",
      "539           BASF East Asia Regional Headquarters Ltd.     94  \n",
      "807   CEI Conrad Electronic International (Hong Kong...     88  \n",
      "1075  Centre Testing International (Hong Kong) Co., ...     89  \n",
      "1343                                  CLP Holdings Ltd.     86  \n",
      "1611                                   Conrad Hong Kong     85  \n",
      "1879                                           Deloitte    100  \n",
      "2414                      Dezan Shira & Associates Ltd.     92  \n",
      "2682                                                 EY    100  \n",
      "3485            Freudenberg & Vilene International Ltd.     94  \n",
      "3753                     HDI GLOBAL SE Hong Kong Branch     83  \n",
      "4289                         Imtron Asia Hong Kong Ltd.     91  \n",
      "5092                                Kuehne & Nagel Ltd.     85  \n",
      "5627                Leighton Contractors (Asia) Limited    100  \n",
      "5895                                    Mazars CPA Ltd.     85  \n",
      "6163                       Mercedes-Benz Hong Kong Ltd.     92  \n",
      "6431                  OBI Group Sourcing Hong Kong Ltd.     93  \n",
      "6698                  OBI Group Sourcing Hong Kong Ltd.     81  \n",
      "6966                               SellerX Asia Limited    100  \n",
      "7234                                       Siemens Ltd.     81  \n",
      "7502                               Simba Dickie HK Ltd.     88  \n",
      "7770                     Techtronic Industries Co. Ltd.     84  \n",
      "8306                                TGI Technology Ltd.     88  \n",
      "8574  The Hongkong and Shanghai Banking Corporation ...     95  \n",
      "8842                       TÜV Rheinland Hong Kong Ltd.     92  \n"
     ]
    }
   ],
   "source": [
    "## Please make sure the column name is always 'company' in both excel lists.\n",
    "\n",
    "x = np.array(np.meshgrid(system_list['company'].values, new_list['company'].values)).T.reshape(-1,2)\n",
    "checked_names_df = pd.DataFrame(x)\n",
    "\n",
    "checked_names_df.columns = ['System List', 'New List']\n",
    "\n",
    "checked_names_df['Ratio'] = [fuzz.ratio(*i) for i in map(tuple, x)]\n",
    "\n",
    "\n",
    "print (checked_names_df[checked_names_df.Ratio > 80]) # <---- UPDATE THE RATIO YOU WANT HERE!\n",
    "\n",
    "checked_names_df[checked_names_df.Ratio > 80].to_excel('results.xlsx') # <---- UPDATE THE RATIO YOU WANT HERE!"
   ]
  },
  {
   "cell_type": "code",
   "execution_count": null,
   "id": "136048f1",
   "metadata": {},
   "outputs": [],
   "source": []
  }
 ],
 "metadata": {
  "gist": {
   "data": {
    "description": "automations/find_similar_names/Find similar names.ipynb",
    "public": false
   },
   "id": ""
  },
  "kernelspec": {
   "display_name": "Python 3 (ipykernel)",
   "language": "python",
   "name": "python3"
  },
  "language_info": {
   "codemirror_mode": {
    "name": "ipython",
    "version": 3
   },
   "file_extension": ".py",
   "mimetype": "text/x-python",
   "name": "python",
   "nbconvert_exporter": "python",
   "pygments_lexer": "ipython3",
   "version": "3.10.9"
  }
 },
 "nbformat": 4,
 "nbformat_minor": 5
}
